{
 "cells": [
  {
   "cell_type": "code",
   "execution_count": 1,
   "metadata": {},
   "outputs": [],
   "source": [
    "import torch\n",
    "import numpy as np\n",
    "from matplotlib import pyplot as plt\n",
    "\n",
    "from NeuralNMF import Neural_NMF, Energy_Loss_Func, L21_Norm, Recon_Loss_Func\n",
    "from NeuralNMF import LsqNonneg\n",
    "from NeuralNMF import train_unsupervised, train_supervised\n",
    "#\n",
    "import torch.nn as nn\n",
    "from NeuralNMF import Writer\n",
    "\n",
    "from time import time\n",
    "\n",
    "import re\n",
    "\n",
    "from nltk.corpus import stopwords\n",
    "from sklearn.datasets import fetch_20newsgroups\n",
    "from sklearn.feature_extraction.text import TfidfVectorizer"
   ]
  },
  {
   "cell_type": "markdown",
   "metadata": {},
   "source": [
    "## Loading and Preprocessing 20 Newsgroup Dataset"
   ]
  },
  {
   "cell_type": "code",
   "execution_count": 2,
   "metadata": {},
   "outputs": [],
   "source": [
    "remove = ('headers','footers','quotes')\n",
    "stopwords_list = stopwords.words('english')\n",
    "stopwords_list.extend(['thanks','edu','also','would','one','could','please','really','many','anyone','good','right','get','even','want','must','something','well','much','still','said','stay','away','first','looking','things','try','take','look','make','may','include','thing','like','two','or','etc','phone','oh','email'])\n",
    "\n",
    "categories = [\n",
    " 'comp.graphics',\n",
    " 'comp.sys.mac.hardware',\n",
    " 'misc.forsale',\n",
    " 'rec.motorcycles',\n",
    " 'rec.sport.baseball',\n",
    " 'sci.med',\n",
    " 'sci.space',\n",
    " 'talk.politics.guns',\n",
    " 'talk.politics.mideast',\n",
    " 'talk.religion.misc'\n",
    " ]\n",
    "\n",
    "\n",
    "directory = \"categories_5\" #this is 100 per class\n",
    "\n",
    "newsgroups_train = fetch_20newsgroups(subset='train', categories=categories, remove=remove)\n",
    "\n",
    "# remove numbers\n",
    "data_cleaned = [re.sub(r'\\d+','', file) for file in newsgroups_train.data]\n",
    "\n",
    "vectorizer = TfidfVectorizer(stop_words=stopwords_list)\n",
    "vectors = vectorizer.fit_transform(data_cleaned).transpose()\n",
    "idx_to_word = np.array(vectorizer.get_feature_names())\n",
    "\n",
    "X = vectors\n",
    "d, n = np.shape(X)\n",
    "\n",
    "Y = np.zeros((n))\n",
    "\n",
    "labels = {0:0, 1:0, 2:1, 3:2, 4:2, 5:3, 6:3, 7:4, 8:4, 9:5}\n",
    "\n",
    "for i in range(n-1):\n",
    "    label = newsgroups_train.target[i]\n",
    "    Y[i] = label\n",
    "\n",
    "X = torch.from_numpy(X.todense())\n",
    "Y = torch.from_numpy(Y).long()\n",
    "\n",
    "m = X.shape[0]\n",
    "k1 = 10\n",
    "k2 = 6\n",
    "\n",
    "\n",
    "sub = 100 #HOW MANY PER CLASS\n",
    "count = np.zeros((k1))\n",
    "\n",
    "X_new = torch.zeros((X.shape[0], sub*k1))\n",
    "Y_new = torch.zeros((sub*k1))\n",
    "j = 0\n",
    "for i in range(Y.shape[0]):\n",
    "    if(count[Y[i]] >= sub):\n",
    "        continue\n",
    "    count[Y[i]] += 1\n",
    "    X_new[:,j] = X[:,i]\n",
    "    Y_new[j] = labels[int(Y[i])]\n",
    "    j += 1\n",
    "\n",
    "X = X_new.double()\n",
    "Y = Y_new.long()\n",
    "\n",
    "ind = np.argsort(Y)\n",
    "X = X[:,ind]\n",
    "Y = Y[ind]\n",
    "\n",
    "split = 0.75\n",
    "L = torch.zeros((k2, Y.shape[0])).double()\n",
    "for i in range(len(categories)):\n",
    "    L[:,i*sub:i*sub+(int(split*sub))] = 1"
   ]
  },
  {
   "cell_type": "code",
   "execution_count": 3,
   "metadata": {},
   "outputs": [],
   "source": [
    "Y_mat = torch.zeros((6,Y.shape[0]))\n",
    "r = np.arange(Y.shape[0])\n",
    "Y_mat[[Y,r]] = 1\n",
    "Y_mat = Y_mat.double()"
   ]
  },
  {
   "cell_type": "code",
   "execution_count": 4,
   "metadata": {
    "scrolled": true
   },
   "outputs": [
    {
     "name": "stderr",
     "output_type": "stream",
     "text": [
      "100%|██████████| 100/100 [44:23<00:00, 26.63s/it]\n"
     ]
    },
    {
     "name": "stdout",
     "output_type": "stream",
     "text": [
      "Training time: 2663.381730079651\n"
     ]
    },
    {
     "name": "stderr",
     "output_type": "stream",
     "text": [
      "100%|██████████| 100/100 [30:54<00:00, 18.54s/it]\n"
     ]
    },
    {
     "name": "stdout",
     "output_type": "stream",
     "text": [
      "Training time: 1854.2989988327026\n"
     ]
    },
    {
     "name": "stderr",
     "output_type": "stream",
     "text": [
      "100%|██████████| 100/100 [32:44<00:00, 19.64s/it]\n"
     ]
    },
    {
     "name": "stdout",
     "output_type": "stream",
     "text": [
      "Training time: 1964.4072020053864\n"
     ]
    },
    {
     "name": "stderr",
     "output_type": "stream",
     "text": [
      "100%|██████████| 100/100 [3:43:27<00:00, 134.08s/it] \n"
     ]
    },
    {
     "name": "stdout",
     "output_type": "stream",
     "text": [
      "Training time: 13408.125851869583\n"
     ]
    },
    {
     "name": "stderr",
     "output_type": "stream",
     "text": [
      "100%|██████████| 100/100 [5:25:31<00:00, 195.31s/it]   \n"
     ]
    },
    {
     "name": "stdout",
     "output_type": "stream",
     "text": [
      "Training time: 19531.131762981415\n"
     ]
    },
    {
     "name": "stderr",
     "output_type": "stream",
     "text": [
      "100%|██████████| 100/100 [27:52<00:00, 16.72s/it]\n"
     ]
    },
    {
     "name": "stdout",
     "output_type": "stream",
     "text": [
      "Training time: 1672.268269777298\n"
     ]
    },
    {
     "name": "stderr",
     "output_type": "stream",
     "text": [
      "100%|██████████| 100/100 [28:17<00:00, 16.97s/it]\n"
     ]
    },
    {
     "name": "stdout",
     "output_type": "stream",
     "text": [
      "Training time: 1697.4949688911438\n"
     ]
    },
    {
     "name": "stderr",
     "output_type": "stream",
     "text": [
      "100%|██████████| 100/100 [30:15<00:00, 18.15s/it]\n"
     ]
    },
    {
     "name": "stdout",
     "output_type": "stream",
     "text": [
      "Training time: 1815.1871149539948\n"
     ]
    },
    {
     "name": "stderr",
     "output_type": "stream",
     "text": [
      "100%|██████████| 100/100 [32:56<00:00, 19.77s/it]\n"
     ]
    },
    {
     "name": "stdout",
     "output_type": "stream",
     "text": [
      "Training time: 1976.8935978412628\n"
     ]
    },
    {
     "name": "stderr",
     "output_type": "stream",
     "text": [
      "100%|██████████| 100/100 [28:44<00:00, 17.24s/it]\n"
     ]
    },
    {
     "name": "stdout",
     "output_type": "stream",
     "text": [
      "Training time: 1724.166067123413\n"
     ]
    }
   ],
   "source": [
    "lambd=1e-6\n",
    "optimizer=\"gd\"\n",
    "lr = 1e10\n",
    "\n",
    "epoch = 100\n",
    "weight_decay=0.995\n",
    "\n",
    "loss_func = Energy_Loss_Func(lambd=lambd) \n",
    "\n",
    "all_results = []\n",
    "\n",
    "for _ in range(10):\n",
    "    \n",
    "    net = Neural_NMF([m, k1, k2], k2)\n",
    "\n",
    "    start = time()\n",
    "\n",
    "    history_supervised = train_supervised(net, X, Y, loss_func=loss_func, L=L, epoch = epoch, lr = lr, weight_decay=weight_decay, decay_epoch=5, optimizer=optimizer, full_history=True, verbose=True)\n",
    "\n",
    "    end = time()\n",
    "\n",
    "    print(\"Training time: {}\".format(end-start))\n",
    "\n",
    "    \n",
    "\n",
    "    A1_lst = history_supervised.get('A1')\n",
    "    S1_lst = history_supervised.get('S1')\n",
    "    S2_lst = history_supervised.get('S2')\n",
    "\n",
    "    A2 = history_supervised.get('A2')[-1]\n",
    "\n",
    "    A1 = A1_lst[-1]\n",
    "    S1 = S1_lst[-1]\n",
    "    S2 = S2_lst[-1]\n",
    "\n",
    "\n",
    "    results = {}\n",
    "    results['X'] = X.detach().numpy()\n",
    "    results['Y'] = Y.detach().numpy()\n",
    "    results['A1'] = A1.detach().numpy()\n",
    "    results['S1'] = S1.detach().numpy()\n",
    "    results['A2'] = A2.detach().numpy()\n",
    "    results['S2'] = S2.detach().numpy()\n",
    "    results['words'] = idx_to_word\n",
    "    results['loss_nmf'] = np.asarray([float(x) for x in history_supervised.get('loss_nmf')])\n",
    "    results['loss_classification'] = np.asarray([float(x) for x in history_supervised.get('loss_classification')])\n",
    "\n",
    "    all_results.append(results)\n",
    "    \n",
    "    np.save(\"supervsed_results_all\", all_results)"
   ]
  },
  {
   "cell_type": "code",
   "execution_count": 5,
   "metadata": {},
   "outputs": [],
   "source": [
    "acc_unknown_all_1 = 0\n",
    "acc_unknown_all_2 = 0\n",
    "\n",
    "for res in all_results:\n",
    "    A1 = res['A1']\n",
    "    A2 = res['A2']\n",
    "    S1 = res['S1']\n",
    "    S2 = res['S2']\n",
    "    \n",
    "    B = np.multiply(Y_mat.numpy(),L.numpy()) @ np.linalg.pinv(S1)\n",
    "    Y_pred = np.argmax(B @ S1, axis=0)\n",
    "    acc_unknown_1 = Y.numpy()[L[0]==0][Y_pred[L[0]==0]==Y.numpy()[L[0]==0]].shape[0]/ Y[L[0]==0].shape[0]\n",
    "    \n",
    "    acc_unknown_all_1 += acc_unknown_1\n",
    "    \n",
    "    B = np.multiply(Y_mat.numpy(),L.numpy()) @ np.linalg.pinv(S2)\n",
    "    Y_pred = np.argmax(B @ S2, axis=0)\n",
    "    acc_unknown_2 = Y.numpy()[L[0]==0][Y_pred[L[0]==0]==Y.numpy()[L[0]==0]].shape[0]/ Y[L[0]==0].shape[0]\n",
    "    \n",
    "    acc_unknown_all_2 += acc_unknown_2"
   ]
  },
  {
   "cell_type": "code",
   "execution_count": 6,
   "metadata": {},
   "outputs": [
    {
     "name": "stdout",
     "output_type": "stream",
     "text": [
      "Average layer 1 accuracy...    0.6976\n",
      "Average layer 2 accuracy...    0.6676\n"
     ]
    }
   ],
   "source": [
    "print(\"Average layer 1 accuracy...   \", acc_unknown_all_1/10)\n",
    "print(\"Average layer 2 accuracy...   \", acc_unknown_all_2/10)"
   ]
  },
  {
   "cell_type": "code",
   "execution_count": 7,
   "metadata": {},
   "outputs": [],
   "source": [
    "acc_all_1 = []\n",
    "acc_all_2 = []\n",
    "\n",
    "for res in all_results:\n",
    "    A1 = res['A1']\n",
    "    A2 = res['A2']\n",
    "    S1 = res['S1']\n",
    "    S2 = res['S2']\n",
    "    \n",
    "    B = np.multiply(Y_mat.numpy(),L.numpy()) @ np.linalg.pinv(S1)\n",
    "    Y_pred = np.argmax(B @ S1, axis=0)\n",
    "    acc_unknown_1 = Y.numpy()[L[0]==0][Y_pred[L[0]==0]==Y.numpy()[L[0]==0]].shape[0]/ Y[L[0]==0].shape[0]\n",
    "    \n",
    "    acc_all_1.append(acc_unknown_1)\n",
    "    \n",
    "    B = np.multiply(Y_mat.numpy(),L.numpy()) @ np.linalg.pinv(S2)\n",
    "    Y_pred = np.argmax(B @ S2, axis=0)\n",
    "    acc_unknown_2 = Y.numpy()[L[0]==0][Y_pred[L[0]==0]==Y.numpy()[L[0]==0]].shape[0]/ Y[L[0]==0].shape[0]\n",
    "    \n",
    "    acc_all_2.append(acc_unknown_2)"
   ]
  },
  {
   "cell_type": "code",
   "execution_count": 8,
   "metadata": {},
   "outputs": [],
   "source": [
    "i_1 = np.argmax(acc_all_1)\n",
    "i_2 = np.argmax(acc_all_2)\n",
    "\n",
    "results = all_results[i_2]"
   ]
  },
  {
   "cell_type": "code",
   "execution_count": 9,
   "metadata": {},
   "outputs": [],
   "source": [
    "S2 = S2_lst[-1]\n",
    "S1 = S1_lst[-1]\n",
    "A2 = history_supervised.get('A2')[-1]\n",
    "\n",
    "A1 = A1_lst[-1]"
   ]
  },
  {
   "cell_type": "code",
   "execution_count": 10,
   "metadata": {},
   "outputs": [
    {
     "name": "stdout",
     "output_type": "stream",
     "text": [
      "Accuracy:          869/1000\n",
      "Accuracy known:    698/750\n",
      "Accuracy unknown:  171/250\n"
     ]
    }
   ],
   "source": [
    "B = np.multiply(Y_mat.numpy(),L.numpy()) @ torch.pinverse(S2).numpy()\n",
    "\n",
    "Y_pred = np.argmax(B @ S2.detach().numpy(), axis=0)\n",
    "\n",
    "\n",
    "print(\"Accuracy:          {}/{}\".format(Y.numpy()[Y_pred==Y.numpy()].shape[0], Y.shape[0]))\n",
    "print(\"Accuracy known:    {}/{}\".format(Y.numpy()[L[0]==1][Y_pred[L[0]==1]==Y.numpy()[L[0]==1]].shape[0], Y[L[0]==1].shape[0]))\n",
    "print(\"Accuracy unknown:  {}/{}\".format(Y.numpy()[L[0]==0][Y_pred[L[0]==0]==Y.numpy()[L[0]==0]].shape[0], Y[L[0]==0].shape[0]))"
   ]
  },
  {
   "cell_type": "code",
   "execution_count": 11,
   "metadata": {},
   "outputs": [
    {
     "name": "stdout",
     "output_type": "stream",
     "text": [
      "Accuracy:          829/1000\n",
      "Accuracy known:    667/750\n",
      "Accuracy unknown:  162/250\n"
     ]
    }
   ],
   "source": [
    "B = np.multiply(Y_mat.numpy(),L.numpy()) @ torch.pinverse(S1).numpy()\n",
    "\n",
    "Y_pred = np.argmax(B @ S1.detach().numpy(), axis=0)\n",
    "\n",
    "\n",
    "print(\"Accuracy:          {}/{}\".format(Y.numpy()[Y_pred==Y.numpy()].shape[0], Y.shape[0]))\n",
    "print(\"Accuracy known:    {}/{}\".format(Y.numpy()[L[0]==1][Y_pred[L[0]==1]==Y.numpy()[L[0]==1]].shape[0], Y[L[0]==1].shape[0]))\n",
    "print(\"Accuracy unknown:  {}/{}\".format(Y.numpy()[L[0]==0][Y_pred[L[0]==0]==Y.numpy()[L[0]==0]].shape[0], Y[L[0]==0].shape[0]))"
   ]
  },
  {
   "cell_type": "code",
   "execution_count": 12,
   "metadata": {},
   "outputs": [],
   "source": [
    "def calc_acc(S):\n",
    "    B = np.multiply(Y_mat.numpy(),L.numpy()) @ torch.pinverse(S).numpy()\n",
    "\n",
    "    Y_pred = np.argmax(B @ S.detach().numpy(), axis=0)\n",
    "\n",
    "\n",
    "    \n",
    "    acc_known = Y.numpy()[L[0]==1][Y_pred[L[0]==1]==Y.numpy()[L[0]==1]].shape[0] / Y[L[0]==1].shape[0]\n",
    "    acc_unknown = Y.numpy()[L[0]==0][Y_pred[L[0]==0]==Y.numpy()[L[0]==0]].shape[0] / Y[L[0]==0].shape[0]\n",
    "    \n",
    "    return acc_known, acc_unknown"
   ]
  },
  {
   "cell_type": "code",
   "execution_count": 13,
   "metadata": {},
   "outputs": [],
   "source": [
    "layer1_acc_train = []\n",
    "layer1_acc_test = []\n",
    "layer2_acc_train = []\n",
    "layer2_acc_test = []\n",
    "for i in range(0, epoch):\n",
    "    \n",
    "    l1_train, l1_test = calc_acc(S2_lst[i])\n",
    "    l2_train, l2_test = calc_acc(S1_lst[i])\n",
    "    \n",
    "    layer1_acc_train.append(l1_train)\n",
    "    layer1_acc_test.append(l1_test)\n",
    "    layer2_acc_train.append(l2_train)\n",
    "    layer2_acc_test.append(l2_test)\n",
    "\n",
    "    "
   ]
  },
  {
   "cell_type": "code",
   "execution_count": null,
   "metadata": {},
   "outputs": [],
   "source": []
  },
  {
   "cell_type": "code",
   "execution_count": 14,
   "metadata": {},
   "outputs": [
    {
     "name": "stdout",
     "output_type": "stream",
     "text": [
      "Accuracy: 845/1000\n"
     ]
    }
   ],
   "source": [
    "B1 = Y_mat.numpy() @ torch.pinverse(S1).numpy()\n",
    "Y_pred = np.argmax(B1 @ S1.detach().numpy(), axis=0)\n",
    "print(\"Accuracy: {}/{}\".format(Y.numpy()[Y_pred==Y.numpy()].shape[0], Y.shape[0]))"
   ]
  },
  {
   "cell_type": "code",
   "execution_count": 15,
   "metadata": {
    "scrolled": true
   },
   "outputs": [
    {
     "data": {
      "image/png": "[encoded data removed]",
      "text/plain": [
       "<Figure size 432x288 with 1 Axes>"
      ]
     },
     "metadata": {
      "needs_background": "light"
     },
     "output_type": "display_data"
    }
   ],
   "source": [
    "history_supervised.plot_scalar('loss_nmf')\n",
    "#history_supervised.plot_scalar('loss')"
   ]
  },
  {
   "cell_type": "code",
   "execution_count": 16,
   "metadata": {},
   "outputs": [
    {
     "data": {
      "text/plain": [
       "[<matplotlib.lines.Line2D at 0x7f8cc60020d0>]"
      ]
     },
     "execution_count": 16,
     "metadata": {},
     "output_type": "execute_result"
    },
    {
     "data": {
      "image/png": "[encoded data removed]",
      "text/plain": [
       "<Figure size 432x288 with 1 Axes>"
      ]
     },
     "metadata": {
      "needs_background": "light"
     },
     "output_type": "display_data"
    }
   ],
   "source": [
    "plt.plot(layer2_acc_test)"
   ]
  },
  {
   "cell_type": "code",
   "execution_count": 17,
   "metadata": {},
   "outputs": [
    {
     "data": {
      "image/png": "[encoded data removed]",
      "text/plain": [
       "<Figure size 432x288 with 1 Axes>"
      ]
     },
     "metadata": {
      "needs_background": "light"
     },
     "output_type": "display_data"
    }
   ],
   "source": [
    "history_supervised.plot_scalar('loss_classification')"
   ]
  },
  {
   "cell_type": "code",
   "execution_count": 18,
   "metadata": {},
   "outputs": [
    {
     "data": {
      "image/png": "[encoded data removed]",
      "text/plain": [
       "<Figure size 432x288 with 1 Axes>"
      ]
     },
     "metadata": {
      "needs_background": "light"
     },
     "output_type": "display_data"
    }
   ],
   "source": [
    "history_supervised.plot_tensor('S1', [-1])"
   ]
  },
  {
   "cell_type": "code",
   "execution_count": 19,
   "metadata": {},
   "outputs": [
    {
     "data": {
      "image/png": "[encoded data removed]",
      "text/plain": [
       "<Figure size 432x288 with 1 Axes>"
      ]
     },
     "metadata": {
      "needs_background": "light"
     },
     "output_type": "display_data"
    }
   ],
   "source": [
    "history_supervised.plot_tensor('S2',[-1])"
   ]
  },
  {
   "cell_type": "code",
   "execution_count": 20,
   "metadata": {},
   "outputs": [
    {
     "data": {
      "image/png": "[encoded data removed]",
      "text/plain": [
       "<Figure size 432x288 with 1 Axes>"
      ]
     },
     "metadata": {
      "needs_background": "light"
     },
     "output_type": "display_data"
    }
   ],
   "source": [
    "history_supervised.plot_tensor('A2', [-1])"
   ]
  },
  {
   "cell_type": "code",
   "execution_count": 21,
   "metadata": {},
   "outputs": [
    {
     "name": "stdout",
     "output_type": "stream",
     "text": [
      "Layer 1 error...    tensor(30.8281, dtype=torch.float64)\n",
      "Layer 2 error...    tensor(30.9798, dtype=torch.float64)\n"
     ]
    }
   ],
   "source": [
    "#calculate reconstruction error\n",
    "layer1_error = torch.norm(X - torch.mm(A1, S1))\n",
    "layer2_error = torch.norm(X - torch.mm(torch.mm(A1, A2), S2))\n",
    "\n",
    "print(\"Layer 1 error...    \" + str(layer1_error))\n",
    "print(\"Layer 2 error...    \" + str(layer2_error))"
   ]
  },
  {
   "cell_type": "code",
   "execution_count": 22,
   "metadata": {},
   "outputs": [
    {
     "name": "stdout",
     "output_type": "stream",
     "text": [
      "RANK 10 KEYWORDS:\n",
      "------------------\n",
      "Topic 1     Topic 2   Topic 3    Topic 4   Topic 5     \n",
      "-------     -------   -------    -------   -------     \n",
      "gun         sale      geb        drive     bike        \n",
      "people      offer     banks      apple     dod         \n",
      "armenians   drive     gordon     mhz       motorcycle  \n",
      "fbi         new       pitt       video     games       \n",
      "us          shipping  shameful   graphics  got         \n",
      "guns        mb        njxp       card      helmet      \n",
      "turkish     computer  intellect  mac       stadium     \n",
      "government  sell      dsl        know      year        \n",
      "turkey      best      cadre      sound     baseball    \n",
      "armenian    color     chastity   mb        last        \n",
      "\n",
      "Topic 6  Topic 7   Topic 8     Topic 9      Topic 10     \n",
      "-------  -------   -------     -------      -------      \n",
      "space    israel    responses   people       jesus        \n",
      "know     arab      posting     rosicrucian  god          \n",
      "centaur  israeli   others      cockroaches  christians   \n",
      "disease  arabs     bothering   order        bible        \n",
      "medical  lebanon   mind        telepathy    christ       \n",
      "heard    peace     nt          abortion     christian    \n",
      "moon     jews      wondering   gospels      koresh       \n",
      "object   killed    optical     religion     convenient   \n",
      "msg      soldiers  interested  word         deleted      \n",
      "diet     neural    contacts    christian    commandment  \n",
      "RANK 6 KEYWORDS:\n",
      "------------------\n",
      "Topic 1     Topic 2      Topic 3    Topic 4  Topic 5     Topic 6   \n",
      "-------     -------      -------    -------  -------     -------   \n",
      "israel      jesus        drive      space    bike        sale      \n",
      "people      god          apple      centaur  dod         offer     \n",
      "gun         people       video      msg      motorcycle  drive     \n",
      "government  christians   mhz        launch   games       mb        \n",
      "us          bible        card       diet     helmet      shipping  \n",
      "arab        christian    graphics   weight   stadium     computer  \n",
      "say         religion     mb         disease  got         new       \n",
      "israeli     rosicrucian  mac        orbit    baseball    sell      \n",
      "fbi         life         sound      effect   year        color     \n",
      "armenians   cockroaches  projector  cost     last        best      \n"
     ]
    }
   ],
   "source": [
    "keywords = np.empty((12,10), dtype=object)\n",
    "\n",
    "for i in range(keywords.shape[1]):\n",
    "    keywords[0,i] = \"Topic \" + str(i+1)\n",
    "    keywords[1,i] = \"-------\"\n",
    "\n",
    "for i in range(results['A1'].shape[1]):\n",
    "    col = results['A1'][:,i]*7/6 -  np.mean(results['A1'], axis=1)\n",
    "    top = col.argsort()\n",
    "    top = top[-10:][::-1]\n",
    "\n",
    "    keywords[2:,i] = idx_to_word[top] \n",
    "\n",
    "print(\"RANK 10 KEYWORDS:\")  \n",
    "print(\"------------------\")\n",
    "col_widths = [max([len(keywords[i][j]) for i in range(keywords.shape[0])])+2 for j in range(keywords.shape[1])]\n",
    "for row in keywords:\n",
    "    print(\"\".join(row[i].ljust(col_widths[i]) for i in range(0,5)))\n",
    "print(\"\")\n",
    "for row in keywords:\n",
    "    print(\"\".join(row[i].ljust(col_widths[i]) for i in range(5,10)))\n",
    "\n",
    "\n",
    "keywords = np.empty((12,6), dtype=object)\n",
    "\n",
    "for i in range(keywords.shape[1]):\n",
    "    keywords[0,i] = \"Topic \" + str(i+1)\n",
    "    keywords[1,i] = \"-------\"\n",
    "\n",
    "A = results['A1'] @ results['A2']\n",
    "for i in range(A.shape[1]):\n",
    "    col = A[:,i]*7/6 -  np.mean(A, axis=1)\n",
    "    top = col.argsort()\n",
    "    top = top[-10:][::-1]\n",
    "\n",
    "    keywords[2:,i] = idx_to_word[top] \n",
    "\n",
    "print(\"RANK 6 KEYWORDS:\")  \n",
    "print(\"------------------\")\n",
    "col_widths = [max([len(keywords[i][j]) for i in range(keywords.shape[0])])+2 for j in range(keywords.shape[1])]\n",
    "for row in keywords:\n",
    "    print(\"\".join(row[i].ljust(col_widths[i]) for i in range(len(row))))\n"
   ]
  },
  {
   "cell_type": "code",
   "execution_count": null,
   "metadata": {},
   "outputs": [],
   "source": []
  }
 ],
 "metadata": {
  "kernelspec": {
   "display_name": "Python 3",
   "language": "python",
   "name": "python3"
  },
  "language_info": {
   "codemirror_mode": {
    "name": "ipython",
    "version": 3
   },
   "file_extension": ".py",
   "mimetype": "text/x-python",
   "name": "python",
   "nbconvert_exporter": "python",
   "pygments_lexer": "ipython3",
   "version": "3.8.8"
  }
 },
 "nbformat": 4,
 "nbformat_minor": 4
}
