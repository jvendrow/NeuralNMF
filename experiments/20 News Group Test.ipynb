{
 "cells": [
  {
   "cell_type": "code",
   "execution_count": 1,
   "metadata": {},
   "outputs": [],
   "source": [
    "# loading packages and functions\n",
    "import torch\n",
    "import numpy as np\n",
    "from matplotlib import pyplot as plt\n",
    "#import Ipynb_importer\n",
    "import sys\n",
    "sys.path.insert(1, '../src')\n",
    "from neural_nmf import Neural_NMF, Energy_Loss_Func, L21_Norm, Recon_Loss_Func\n",
    "from lsqnonneg_module import LsqNonneg\n",
    "from train import train_unsupervised, train_supervised\n",
    "#\n",
    "import torch.nn as nn\n",
    "from writer import Writer\n",
    "\n",
    "# data loading session\n",
    "from news_group_loading import get_data\n",
    "\n",
    "from time import time"
   ]
  },
  {
   "cell_type": "code",
   "execution_count": 2,
   "metadata": {},
   "outputs": [],
   "source": [
    "X, Y_sub, Y_super, vocab = get_data()\n",
    "m = X.shape[0]\n",
    "k1 = 10\n",
    "k2 = 6"
   ]
  },
  {
   "cell_type": "code",
   "execution_count": 3,
   "metadata": {},
   "outputs": [],
   "source": [
    "net = Neural_NMF([m, k1], 10)\n",
    "loss_func = Energy_Loss_Func(lambd=1)"
   ]
  },
  {
   "cell_type": "code",
   "execution_count": 4,
   "metadata": {
    "scrolled": false
   },
   "outputs": [
    {
     "name": "stdout",
     "output_type": "stream",
     "text": [
      "epoch =  1 \n",
      " tensor(2.2716, dtype=torch.float64)\n",
      "epoch =  2 \n",
      " tensor(2.1938, dtype=torch.float64)\n",
      "epoch =  3 \n",
      " tensor(2.1065, dtype=torch.float64)\n",
      "epoch =  4 \n",
      " tensor(2.0260, dtype=torch.float64)\n",
      "epoch =  5 \n",
      " tensor(1.9550, dtype=torch.float64)\n",
      "epoch =  6 \n",
      " tensor(1.8934, dtype=torch.float64)\n",
      "epoch =  7 \n",
      " tensor(1.8405, dtype=torch.float64)\n",
      "epoch =  8 \n",
      " tensor(1.7948, dtype=torch.float64)\n",
      "epoch =  9 \n",
      " tensor(1.7544, dtype=torch.float64)\n",
      "epoch =  10 \n",
      " tensor(1.7188, dtype=torch.float64)\n",
      "epoch =  11 \n",
      " tensor(1.6880, dtype=torch.float64)\n",
      "epoch =  12 \n",
      " tensor(1.6618, dtype=torch.float64)\n",
      "epoch =  13 \n",
      " tensor(1.6388, dtype=torch.float64)\n",
      "epoch =  14 \n",
      " tensor(1.6184, dtype=torch.float64)\n",
      "epoch =  15 \n",
      " tensor(1.6001, dtype=torch.float64)\n",
      "epoch =  16 \n",
      " tensor(1.5835, dtype=torch.float64)\n",
      "epoch =  17 \n",
      " tensor(1.5685, dtype=torch.float64)\n",
      "epoch =  18 \n",
      " tensor(1.5545, dtype=torch.float64)\n",
      "epoch =  19 \n",
      " tensor(1.5415, dtype=torch.float64)\n",
      "epoch =  20 \n",
      " tensor(1.5294, dtype=torch.float64)\n",
      "epoch =  21 \n",
      " tensor(1.5186, dtype=torch.float64)\n",
      "epoch =  22 \n",
      " tensor(1.5093, dtype=torch.float64)\n",
      "epoch =  23 \n",
      " tensor(1.5014, dtype=torch.float64)\n",
      "epoch =  24 \n",
      " tensor(1.4946, dtype=torch.float64)\n",
      "epoch =  25 \n",
      " tensor(1.4890, dtype=torch.float64)\n",
      "Training time: 130.69340777397156\n"
     ]
    }
   ],
   "source": [
    "start = time()\n",
    "history_supervised =train_supervised(net, X, Y_sub, loss_func=loss_func, epoch = 25, lr_nmf = 1e13, lr_classification= 1e9, weight_decay=0.99, decay_epoch=10, full_history=True, verbose=True, verbose_epoch=1, class_iters=2)\n",
    "end = time()\n",
    "end = time()\n",
    "print(\"Training time: {}\".format(end-start))\n"
   ]
  },
  {
   "cell_type": "code",
   "execution_count": 5,
   "metadata": {},
   "outputs": [
    {
     "data": {
      "image/png": "[encoded data removed]",
      "text/plain": [
       "<Figure size 432x288 with 1 Axes>"
      ]
     },
     "metadata": {
      "needs_background": "light"
     },
     "output_type": "display_data"
    }
   ],
   "source": [
    "history_supervised.plot_scalar('loss_nmf')"
   ]
  },
  {
   "cell_type": "code",
   "execution_count": 6,
   "metadata": {},
   "outputs": [
    {
     "data": {
      "image/png": "[encoded data removed]",
      "text/plain": [
       "<Figure size 432x288 with 1 Axes>"
      ]
     },
     "metadata": {
      "needs_background": "light"
     },
     "output_type": "display_data"
    }
   ],
   "source": [
    "history_supervised.plot_scalar('loss_classification')"
   ]
  },
  {
   "cell_type": "code",
   "execution_count": 7,
   "metadata": {},
   "outputs": [
    {
     "data": {
      "image/png": "[encoded data removed]",
      "text/plain": [
       "<Figure size 432x288 with 1 Axes>"
      ]
     },
     "metadata": {
      "needs_background": "light"
     },
     "output_type": "display_data"
    }
   ],
   "source": [
    "history_supervised.plot_tensor('S1', [-1])"
   ]
  },
  {
   "cell_type": "code",
   "execution_count": 8,
   "metadata": {},
   "outputs": [],
   "source": [
    "A1_lst = history_supervised.get('A1')\n",
    "S1_lst = history_supervised.get('S1')\n",
    "weight_lst = history_supervised.get('weight')\n",
    "pred = history_supervised.get('pred')[-1].detach().numpy()\n",
    "A1 = A1_lst[-1]\n",
    "S1 = S1_lst[-1]\n",
    "B = weight_lst[-1]"
   ]
  },
  {
   "cell_type": "code",
   "execution_count": 9,
   "metadata": {},
   "outputs": [
    {
     "name": "stdout",
     "output_type": "stream",
     "text": [
      "Accuracy: 93/200\n"
     ]
    }
   ],
   "source": [
    "Y_pred = np.argmax(pred, axis=0)\n",
    "Y = Y_sub.numpy()\n",
    "print(\"Accuracy: {}/{}\".format(Y[Y_pred==Y].shape[0], Y.shape[0]))\n",
    "\n",
    "\n"
   ]
  },
  {
   "cell_type": "code",
   "execution_count": 10,
   "metadata": {},
   "outputs": [
    {
     "name": "stdout",
     "output_type": "stream",
     "text": [
      "(37693,)\n",
      "Row 0 rows\n",
      "[array(['say'], dtype='<U3')]\n",
      "[array(['post'], dtype='<U4')]\n",
      "[array(['people'], dtype='<U6')]\n",
      "[array(['just'], dtype='<U4')]\n",
      "[array(['accept'], dtype='<U6')]\n",
      "[array(['god'], dtype='<U3')]\n",
      "[array(['know'], dtype='<U4')]\n",
      "[array(['objective'], dtype='<U9')]\n",
      "[array(['net'], dtype='<U3')]\n",
      "[array(['bible'], dtype='<U5')]\n",
      "(37693,)\n",
      "Row 1 rows\n",
      "[array(['mac'], dtype='<U3')]\n",
      "[array(['monitor'], dtype='<U7')]\n",
      "[array(['lc'], dtype='<U2')]\n",
      "[array(['video'], dtype='<U5')]\n",
      "[array(['vga'], dtype='<U3')]\n",
      "[array(['grayscale'], dtype='<U9')]\n",
      "[array(['ntsc'], dtype='<U4')]\n",
      "[array(['interested'], dtype='<U10')]\n",
      "[array(['info'], dtype='<U4')]\n",
      "[array(['use'], dtype='<U3')]\n",
      "(37693,)\n",
      "Row 2 rows\n",
      "[array(['file'], dtype='<U4')]\n",
      "[array(['autocad'], dtype='<U7')]\n",
      "[array(['format'], dtype='<U6')]\n",
      "[array(['tiff'], dtype='<U4')]\n",
      "[array(['hello'], dtype='<U5')]\n",
      "[array(['mail'], dtype='<U4')]\n",
      "[array(['know'], dtype='<U4')]\n",
      "[array(['iff'], dtype='<U3')]\n",
      "[array(['convert'], dtype='<U7')]\n",
      "[array(['thank'], dtype='<U5')]\n",
      "(37693,)\n",
      "Row 3 rows\n",
      "[array(['space'], dtype='<U5')]\n",
      "[array(['hst'], dtype='<U3')]\n",
      "[array(['hunchback'], dtype='<U9')]\n",
      "[array(['slouch'], dtype='<U6')]\n",
      "[array(['pronounced'], dtype='<U10')]\n",
      "[array(['posture'], dtype='<U7')]\n",
      "[array(['walk'], dtype='<U4')]\n",
      "[array(['disorder'], dtype='<U8')]\n",
      "[array(['genetic'], dtype='<U7')]\n",
      "[array(['tx'], dtype='<U2')]\n",
      "(37693,)\n",
      "Row 4 rows\n",
      "[array(['eye'], dtype='<U3')]\n",
      "[array(['close'], dtype='<U5')]\n",
      "[array(['israel'], dtype='<U6')]\n",
      "[array(['child'], dtype='<U5')]\n",
      "[array(['start'], dtype='<U5')]\n",
      "[array(['civilian'], dtype='<U8')]\n",
      "[array(['tank'], dtype='<U4')]\n",
      "[array(['right'], dtype='<U5')]\n",
      "[array(['claim'], dtype='<U5')]\n",
      "[array(['resistance'], dtype='<U10')]\n",
      "(37693,)\n",
      "Row 5 rows\n",
      "[array(['kill'], dtype='<U4')]\n",
      "[array(['list'], dtype='<U4')]\n",
      "[array(['justify'], dtype='<U7')]\n",
      "[array(['agressive'], dtype='<U9')]\n",
      "[array(['feel'], dtype='<U4')]\n",
      "[array(['opinion'], dtype='<U7')]\n",
      "[array(['property'], dtype='<U8')]\n",
      "[array(['rancher'], dtype='<U7')]\n",
      "[array(['talk'], dtype='<U4')]\n",
      "[array(['dwi'], dtype='<U3')]\n",
      "(37693,)\n",
      "Row 6 rows\n",
      "[array(['bike'], dtype='<U4')]\n",
      "[array(['ride'], dtype='<U4')]\n",
      "[array(['rid'], dtype='<U3')]\n",
      "[array(['motorcycle'], dtype='<U10')]\n",
      "[array(['turn'], dtype='<U4')]\n",
      "[array(['lane'], dtype='<U4')]\n",
      "[array(['insurance'], dtype='<U9')]\n",
      "[array(['right'], dtype='<U5')]\n",
      "[array(['tank'], dtype='<U4')]\n",
      "[array(['habit'], dtype='<U5')]\n",
      "(37693,)\n",
      "Row 7 rows\n",
      "[array(['know'], dtype='<U4')]\n",
      "[array(['look'], dtype='<U4')]\n",
      "[array(['want'], dtype='<U4')]\n",
      "[array(['okay'], dtype='<U4')]\n",
      "[array(['attemp'], dtype='<U6')]\n",
      "[array(['vehicular'], dtype='<U9')]\n",
      "[array(['kill'], dtype='<U4')]\n",
      "[array(['manslaughter'], dtype='<U12')]\n",
      "[array(['casually'], dtype='<U8')]\n",
      "[array(['cager'], dtype='<U5')]\n",
      "(37693,)\n",
      "Row 8 rows\n",
      "[array(['team'], dtype='<U4')]\n",
      "[array(['braves'], dtype='<U6')]\n",
      "[array(['game'], dtype='<U4')]\n",
      "[array(['watch'], dtype='<U5')]\n",
      "[array(['local'], dtype='<U5')]\n",
      "[array(['dolt'], dtype='<U4')]\n",
      "[array(['title'], dtype='<U5')]\n",
      "[array(['incredible'], dtype='<U10')]\n",
      "[array(['broadcast'], dtype='<U9')]\n",
      "[array(['uniform'], dtype='<U7')]\n",
      "(37693,)\n",
      "Row 9 rows\n",
      "[array(['aorta'], dtype='<U5')]\n",
      "[array(['velocity'], dtype='<U8')]\n",
      "[array(['horizon'], dtype='<U7')]\n",
      "[array(['event'], dtype='<U5')]\n",
      "[array(['mile'], dtype='<U4')]\n",
      "[array(['excellent'], dtype='<U9')]\n",
      "[array(['sky'], dtype='<U3')]\n",
      "[array(['aortic'], dtype='<U6')]\n",
      "[array(['human'], dtype='<U5')]\n",
      "[array(['black'], dtype='<U5')]\n"
     ]
    }
   ],
   "source": [
    "for i in range(A1.shape[1]):\n",
    "    col = A1[:,i].numpy()\n",
    "    top = col.argsort()\n",
    "    print(top.shape)\n",
    "    top = top[-10:][::-1]\n",
    "\n",
    "    print(\"Row {} rows\".format(i))\n",
    "    for j in top:\n",
    "        print(vocab[j])"
   ]
  },
  {
   "cell_type": "code",
   "execution_count": null,
   "metadata": {},
   "outputs": [],
   "source": []
  }
 ],
 "metadata": {
  "kernelspec": {
   "display_name": "Python 3",
   "language": "python",
   "name": "python3"
  },
  "language_info": {
   "codemirror_mode": {
    "name": "ipython",
    "version": 3
   },
   "file_extension": ".py",
   "mimetype": "text/x-python",
   "name": "python",
   "nbconvert_exporter": "python",
   "pygments_lexer": "ipython3",
   "version": "3.8.1"
  }
 },
 "nbformat": 4,
 "nbformat_minor": 4
}
