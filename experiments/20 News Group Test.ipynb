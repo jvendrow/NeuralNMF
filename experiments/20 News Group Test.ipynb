{
 "cells": [
  {
   "cell_type": "code",
   "execution_count": 2,
   "metadata": {},
   "outputs": [],
   "source": [
    "# loading packages and functions\n",
    "import torch\n",
    "import numpy as np\n",
    "from matplotlib import pyplot as plt\n",
    "#import Ipynb_importer\n",
    "import sys\n",
    "sys.path.insert(1, '../src')\n",
    "from neural_nmf import Neural_NMF, Energy_Loss_Func, L21_Norm, Recon_Loss_Func\n",
    "from lsqnonneg_module import LsqNonneg\n",
    "from train import train_unsupervised, train_supervised\n",
    "#\n",
    "import torch.nn as nn\n",
    "from writer import Writer\n",
    "\n",
    "# data loading session\n",
    "from news_group_loading import get_data\n",
    "\n",
    "from time import time"
   ]
  },
  {
   "cell_type": "code",
   "execution_count": 3,
   "metadata": {},
   "outputs": [],
   "source": [
    "X, Y_sub, Y_super, vocab = get_data()\n",
    "m = X.shape[0]\n",
    "k1 = 10\n",
    "k2 = 6"
   ]
  },
  {
   "cell_type": "code",
   "execution_count": 4,
   "metadata": {},
   "outputs": [],
   "source": [
    "net = Neural_NMF([m, k1], 10)\n",
    "loss_func = Energy_Loss_Func(lambd=1)"
   ]
  },
  {
   "cell_type": "code",
   "execution_count": 12,
   "metadata": {
    "scrolled": false
   },
   "outputs": [
    {
     "name": "stdout",
     "output_type": "stream",
     "text": [
      "epoch =  1 \n",
      " tensor(1.6178, dtype=torch.float64)\n",
      "epoch =  2 \n",
      " tensor(1.5232, dtype=torch.float64)\n",
      "epoch =  3 \n",
      " tensor(1.5159, dtype=torch.float64)\n",
      "epoch =  4 \n",
      " tensor(1.5119, dtype=torch.float64)\n",
      "epoch =  5 \n",
      " tensor(1.5075, dtype=torch.float64)\n",
      "epoch =  6 \n",
      " tensor(1.5031, dtype=torch.float64)\n",
      "epoch =  7 \n",
      " tensor(1.4987, dtype=torch.float64)\n",
      "epoch =  8 \n",
      " tensor(1.4944, dtype=torch.float64)\n",
      "epoch =  9 \n",
      " tensor(1.4904, dtype=torch.float64)\n",
      "epoch =  10 \n",
      " tensor(1.4865, dtype=torch.float64)\n",
      "epoch =  11 \n",
      " tensor(1.4828, dtype=torch.float64)\n",
      "epoch =  12 \n",
      " tensor(1.4795, dtype=torch.float64)\n",
      "epoch =  13 \n",
      " tensor(1.4764, dtype=torch.float64)\n",
      "epoch =  14 \n",
      " tensor(1.4732, dtype=torch.float64)\n",
      "epoch =  15 \n",
      " tensor(1.4699, dtype=torch.float64)\n",
      "epoch =  16 \n",
      " tensor(1.4664, dtype=torch.float64)\n",
      "epoch =  17 \n",
      " tensor(1.4626, dtype=torch.float64)\n",
      "epoch =  18 \n",
      " tensor(1.4590, dtype=torch.float64)\n",
      "epoch =  19 \n",
      " tensor(1.4555, dtype=torch.float64)\n",
      "epoch =  20 \n",
      " tensor(1.4524, dtype=torch.float64)\n",
      "epoch =  21 \n",
      " tensor(1.4497, dtype=torch.float64)\n",
      "epoch =  22 \n",
      " tensor(1.4472, dtype=torch.float64)\n",
      "epoch =  23 \n",
      " tensor(1.4451, dtype=torch.float64)\n",
      "epoch =  24 \n",
      " tensor(1.4432, dtype=torch.float64)\n",
      "epoch =  25 \n",
      " tensor(1.4415, dtype=torch.float64)\n",
      "Training time: 139.4826419353485\n"
     ]
    }
   ],
   "source": [
    "start = time()\n",
    "history_supervised =train_supervised(net, X, Y_sub, loss_func=loss_func, epoch = 25, lr_nmf = 1e13, lr_classification= 1e9, weight_decay=0.99, decay_epoch=10, full_history=True, verbose=True, verbose_epoch=1, class_iters=2)\n",
    "end = time()\n",
    "end = time()\n",
    "print(\"Training time: {}\".format(end-start))\n"
   ]
  },
  {
   "cell_type": "code",
   "execution_count": 13,
   "metadata": {},
   "outputs": [
    {
     "data": {
      "image/png": "[encoded data removed]",
      "text/plain": [
       "<Figure size 432x288 with 1 Axes>"
      ]
     },
     "metadata": {
      "needs_background": "light"
     },
     "output_type": "display_data"
    }
   ],
   "source": [
    "history_supervised.plot_scalar('loss_nmf')"
   ]
  },
  {
   "cell_type": "code",
   "execution_count": 14,
   "metadata": {},
   "outputs": [
    {
     "data": {
      "image/png": "[encoded data removed]",
      "text/plain": [
       "<Figure size 432x288 with 1 Axes>"
      ]
     },
     "metadata": {
      "needs_background": "light"
     },
     "output_type": "display_data"
    }
   ],
   "source": [
    "history_supervised.plot_scalar('loss_classification')"
   ]
  },
  {
   "cell_type": "code",
   "execution_count": 15,
   "metadata": {},
   "outputs": [
    {
     "data": {
      "image/png": "[encoded data removed]",
      "text/plain": [
       "<Figure size 432x288 with 1 Axes>"
      ]
     },
     "metadata": {
      "needs_background": "light"
     },
     "output_type": "display_data"
    }
   ],
   "source": [
    "history_supervised.plot_tensor('S1', [-1])"
   ]
  },
  {
   "cell_type": "code",
   "execution_count": 16,
   "metadata": {},
   "outputs": [],
   "source": [
    "A1_lst = history_supervised.get('A1')\n",
    "S1_lst = history_supervised.get('S1')\n",
    "weight_lst = history_supervised.get('weight')\n",
    "pred = history_supervised.get('pred')[-1].detach().numpy()\n",
    "A1 = A1_lst[-1]\n",
    "S1 = S1_lst[-1]\n",
    "B = weight_lst[-1]"
   ]
  },
  {
   "cell_type": "code",
   "execution_count": 17,
   "metadata": {},
   "outputs": [
    {
     "name": "stdout",
     "output_type": "stream",
     "text": [
      "Accuracy: 86/200\n"
     ]
    }
   ],
   "source": [
    "Y_pred = np.argmax(pred, axis=0)\n",
    "Y = Y_sub.numpy()\n",
    "print(\"Accuracy: {}/{}\".format(Y[Y_pred==Y].shape[0], Y.shape[0]))\n",
    "\n",
    "\n"
   ]
  },
  {
   "cell_type": "code",
   "execution_count": 18,
   "metadata": {},
   "outputs": [
    {
     "name": "stdout",
     "output_type": "stream",
     "text": [
      "(37693,)\n",
      "Row 0 rows\n",
      "[array(['bike'], dtype='<U4')]\n",
      "[array(['ride'], dtype='<U4')]\n",
      "[array(['turn'], dtype='<U4')]\n",
      "[array(['rid'], dtype='<U3')]\n",
      "[array(['motorcycle'], dtype='<U10')]\n",
      "[array(['right'], dtype='<U5')]\n",
      "[array(['lane'], dtype='<U4')]\n",
      "[array(['tank'], dtype='<U4')]\n",
      "[array(['insurance'], dtype='<U9')]\n",
      "[array(['stop'], dtype='<U4')]\n",
      "(37693,)\n",
      "Row 1 rows\n",
      "[array(['kill'], dtype='<U4')]\n",
      "[array(['say'], dtype='<U3')]\n",
      "[array(['know'], dtype='<U4')]\n",
      "[array(['child'], dtype='<U5')]\n",
      "[array(['civilian'], dtype='<U8')]\n",
      "[array(['want'], dtype='<U4')]\n",
      "[array(['look'], dtype='<U4')]\n",
      "[array(['burn'], dtype='<U4')]\n",
      "[array(['let'], dtype='<U3')]\n",
      "[array(['true'], dtype='<U4')]\n",
      "(37693,)\n",
      "Row 2 rows\n",
      "[array(['file'], dtype='<U4')]\n",
      "[array(['autocad'], dtype='<U7')]\n",
      "[array(['tiff'], dtype='<U4')]\n",
      "[array(['hello'], dtype='<U5')]\n",
      "[array(['format'], dtype='<U6')]\n",
      "[array(['know'], dtype='<U4')]\n",
      "[array(['parse'], dtype='<U5')]\n",
      "[array(['dxf'], dtype='<U3')]\n",
      "[array(['convert'], dtype='<U7')]\n",
      "[array(['thanks'], dtype='<U6')]\n",
      "(37693,)\n",
      "Row 3 rows\n",
      "[array(['pitch'], dtype='<U5')]\n",
      "[array(['pitcher'], dtype='<U7')]\n",
      "[array(['game'], dtype='<U4')]\n",
      "[array(['relief'], dtype='<U6')]\n",
      "[array(['hitter'], dtype='<U6')]\n",
      "[array(['umpire'], dtype='<U6')]\n",
      "[array(['batter'], dtype='<U6')]\n",
      "[array(['throw'], dtype='<U5')]\n",
      "[array(['hit'], dtype='<U3')]\n",
      "[array(['really'], dtype='<U6')]\n",
      "(37693,)\n",
      "Row 4 rows\n",
      "[array(['food'], dtype='<U4')]\n",
      "[array(['msg'], dtype='<U3')]\n",
      "[array(['taste'], dtype='<U5')]\n",
      "[array(['dye'], dtype='<U3')]\n",
      "[array(['cook'], dtype='<U4')]\n",
      "[array(['chinese'], dtype='<U7')]\n",
      "[array(['net'], dtype='<U3')]\n",
      "[array(['eat'], dtype='<U3')]\n",
      "[array(['additive'], dtype='<U8')]\n",
      "[array(['ma'], dtype='<U2')]\n",
      "(37693,)\n",
      "Row 5 rows\n",
      "[array(['mac'], dtype='<U3')]\n",
      "[array(['lc'], dtype='<U2')]\n",
      "[array(['monitor'], dtype='<U7')]\n",
      "[array(['vga'], dtype='<U3')]\n",
      "[array(['video'], dtype='<U5')]\n",
      "[array(['grayscale'], dtype='<U9')]\n",
      "[array(['ntsc'], dtype='<U4')]\n",
      "[array(['info'], dtype='<U4')]\n",
      "[array(['use'], dtype='<U3')]\n",
      "[array(['second'], dtype='<U6')]\n",
      "(37693,)\n",
      "Row 6 rows\n",
      "[array(['update'], dtype='<U6')]\n",
      "[array(['thank'], dtype='<U5')]\n",
      "[array(['surface'], dtype='<U7')]\n",
      "[array(['advance'], dtype='<U7')]\n",
      "[array(['occlusion'], dtype='<U9')]\n",
      "[array(['occlude'], dtype='<U7')]\n",
      "[array(['hi'], dtype='<U2')]\n",
      "[array(['opaque'], dtype='<U6')]\n",
      "[array(['polygon'], dtype='<U7')]\n",
      "[array(['routine'], dtype='<U7')]\n",
      "(37693,)\n",
      "Row 7 rows\n",
      "[array(['objective'], dtype='<U9')]\n",
      "[array(['people'], dtype='<U6')]\n",
      "[array(['accept'], dtype='<U6')]\n",
      "[array(['subjective'], dtype='<U10')]\n",
      "[array(['gun'], dtype='<U3')]\n",
      "[array(['space'], dtype='<U5')]\n",
      "[array(['just'], dtype='<U4')]\n",
      "[array(['project'], dtype='<U7')]\n",
      "[array(['argue'], dtype='<U5')]\n",
      "[array(['endpoints'], dtype='<U9')]\n",
      "(37693,)\n",
      "Row 8 rows\n",
      "[array(['mail'], dtype='<U4')]\n",
      "[array(['list'], dtype='<U4')]\n",
      "[array(['email'], dtype='<U5')]\n",
      "[array(['like'], dtype='<U4')]\n",
      "[array(['format'], dtype='<U6')]\n",
      "[array(['subscribe'], dtype='<U9')]\n",
      "[array(['post'], dtype='<U4')]\n",
      "[array(['week'], dtype='<U4')]\n",
      "[array(['know'], dtype='<U4')]\n",
      "[array(['send'], dtype='<U4')]\n",
      "(37693,)\n",
      "Row 9 rows\n",
      "[array(['team'], dtype='<U4')]\n",
      "[array(['braves'], dtype='<U6')]\n",
      "[array(['dolt'], dtype='<U4')]\n",
      "[array(['watch'], dtype='<U5')]\n",
      "[array(['local'], dtype='<U5')]\n",
      "[array(['incredible'], dtype='<U10')]\n",
      "[array(['title'], dtype='<U5')]\n",
      "[array(['america'], dtype='<U7')]\n",
      "[array(['broadcast'], dtype='<U9')]\n",
      "[array(['uniform'], dtype='<U7')]\n"
     ]
    }
   ],
   "source": [
    "for i in range(A1.shape[1]):\n",
    "    col = A1[:,i].numpy()\n",
    "    top = col.argsort()\n",
    "    print(top.shape)\n",
    "    top = top[-10:][::-1]\n",
    "\n",
    "    print(\"Row {} rows\".format(i))\n",
    "    for j in top:\n",
    "        print(vocab[j])"
   ]
  },
  {
   "cell_type": "code",
   "execution_count": null,
   "metadata": {},
   "outputs": [],
   "source": []
  }
 ],
 "metadata": {
  "kernelspec": {
   "display_name": "Python 3",
   "language": "python",
   "name": "python3"
  },
  "language_info": {
   "codemirror_mode": {
    "name": "ipython",
    "version": 3
   },
   "file_extension": ".py",
   "mimetype": "text/x-python",
   "name": "python",
   "nbconvert_exporter": "python",
   "pygments_lexer": "ipython3",
   "version": "3.8.1"
  }
 },
 "nbformat": 4,
 "nbformat_minor": 4
}
